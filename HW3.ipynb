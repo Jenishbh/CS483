{
  "nbformat": 4,
  "nbformat_minor": 0,
  "metadata": {
    "colab": {
      "name": "HW3.ipynb",
      "provenance": [],
      "authorship_tag": "ABX9TyOA7fCrmFtfMS0i5OhSXCB9",
      "include_colab_link": true
    },
    "kernelspec": {
      "name": "python3",
      "display_name": "Python 3"
    }
  },
  "cells": [
    {
      "cell_type": "markdown",
      "metadata": {
        "id": "view-in-github",
        "colab_type": "text"
      },
      "source": [
        "<a href=\"https://colab.research.google.com/github/Jenishbh/CS483/blob/master/HW3.ipynb\" target=\"_parent\"><img src=\"https://colab.research.google.com/assets/colab-badge.svg\" alt=\"Open In Colab\"/></a>"
      ]
    },
    {
      "cell_type": "code",
      "metadata": {
        "id": "ssn5UeOaqZPD",
        "colab_type": "code",
        "colab": {
          "base_uri": "https://localhost:8080/",
          "height": 519
        },
        "outputId": "a0ae01f3-df78-4540-c82c-dab683811c51"
      },
      "source": [
        "# Importing important modules\n",
        "from sklearn.cluster import KMeans\n",
        "import matplotlib.pyplot as plt\n",
        "import pandas as pd\n",
        "\n",
        "# Reading CSV data\n",
        "data = pd.read_csv(\"clusture.csv\",index_col=0)\n",
        "# displaying data\n",
        "print(\"Data:\")\n",
        "print(data)\n",
        "\n",
        "# Calculating WCSS for k 1 to 5\n",
        "# defining empty list wcss\n",
        "wcss = []\n",
        "# looping for k range 1 to 5\n",
        "for k in range(1,6):\n",
        "# defining KMeans model with cluster K\n",
        " kmeans = KMeans(n_clusters = k, random_state = 0)\n",
        "# fiting data on defined model\n",
        " kmeans.fit(data)\n",
        "# fetching wcss from fitted model and appending in wcss list\n",
        " wcss.append(kmeans.inertia_)\n",
        "\n",
        "# Ploting curve on wcss and K\n",
        "plt.plot(range(1,6), wcss)\n",
        "plt.title('The elbow method')\n",
        "plt.xlabel('The number of clusters')\n",
        "plt.ylabel('WCSS')\n",
        "\n",
        "# Displaying observational K\n",
        "print()\n",
        "print(\"Elbow is at 2, Hence best value of k is 2.\")"
      ],
      "execution_count": 5,
      "outputs": [
        {
          "output_type": "stream",
          "text": [
            "Data:\n",
            "         X  Y  Z\n",
            "Objects         \n",
            "OB-1     1  4  1\n",
            "OB-2     1  2  2\n",
            "OB-3     1  4  2\n",
            "OB-4     2  1  2\n",
            "OB-5     1  1  1\n",
            "OB-6     2  4  2\n",
            "OB-7     1  1  2\n",
            "OB-8     2  1  1\n",
            "\n",
            "Elbow is at 2, Hence best value of k is 2.\n"
          ],
          "name": "stdout"
        },
        {
          "output_type": "display_data",
          "data": {
            "image/png": "[encoded data removed]",
            "text/plain": [
              "<Figure size 432x288 with 1 Axes>"
            ]
          },
          "metadata": {
            "tags": [],
            "needs_background": "light"
          }
        }
      ]
    }
  ]
}