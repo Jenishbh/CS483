{
  "nbformat": 4,
  "nbformat_minor": 0,
  "metadata": {
    "colab": {
      "name": "Lab11.ipynb",
      "provenance": [],
      "authorship_tag": "ABX9TyN0FXQip5ddpHLedLtgihEl",
      "include_colab_link": true
    },
    "kernelspec": {
      "name": "python3",
      "display_name": "Python 3"
    }
  },
  "cells": [
    {
      "cell_type": "markdown",
      "metadata": {
        "id": "view-in-github",
        "colab_type": "text"
      },
      "source": [
        "<a href=\"https://colab.research.google.com/github/Jenishbh/CS483/blob/master/Lab11.ipynb\" target=\"_parent\"><img src=\"https://colab.research.google.com/assets/colab-badge.svg\" alt=\"Open In Colab\"/></a>"
      ]
    },
    {
      "cell_type": "code",
      "metadata": {
        "id": "mNkNf_JyFWMO",
        "colab_type": "code",
        "colab": {
          "base_uri": "https://localhost:8080/",
          "height": 1000
        },
        "outputId": "6d1db16d-8fe4-4641-fb8e-f4289563b4a9"
      },
      "source": [
        "import pandas as pd\n",
        "df = pd.read_csv(\"aapl.csv\",parse_dates=[\"Date\"], index_col=\"Date\")\n",
        "print(df.head(2))\n",
        "print(df.index)\n",
        "print(df['2017-06-30'])\n",
        "print(df[\"2017-01\"])\n",
        "print(df['2017-06'].head())\n",
        "print(df['2017-06'].Close.mean())\n",
        "print(df['2017'].head(2))\n",
        "print(df['2017-01-08':'2017-01-03'])\n",
        "print(df['2017-01'])\n",
        "print(df['Close'].resample('M').mean().head()) # M : month end frequency\n",
        "print(df['2016-07'])\n",
        "\n"
      ],
      "execution_count": null,
      "outputs": [
        {
          "output_type": "stream",
          "text": [
            "              Open    High     Low   Close    Volume\n",
            "Date                                                \n",
            "2017-07-07  142.90  144.75  142.90  144.18  19201712\n",
            "2017-07-06  143.02  143.50  142.41  142.73  24128782\n",
            "DatetimeIndex(['2017-07-07', '2017-07-06', '2017-07-05', '2017-07-03',\n",
            "               '2017-06-30', '2017-06-29', '2017-06-28', '2017-06-27',\n",
            "               '2017-06-26', '2017-06-23',\n",
            "               ...\n",
            "               '2016-07-22', '2016-07-21', '2016-07-20', '2016-07-19',\n",
            "               '2016-07-18', '2016-07-15', '2016-07-14', '2016-07-13',\n",
            "               '2016-07-12', '2016-07-11'],\n",
            "              dtype='datetime64[ns]', name='Date', length=251, freq=None)\n",
            "              Open    High     Low   Close    Volume\n",
            "Date                                                \n",
            "2017-06-30  144.45  144.96  143.78  144.02  23024107\n",
            "              Open    High     Low   Close    Volume\n",
            "Date                                                \n",
            "2017-01-31  121.15  121.39  120.62  121.35  49200993\n",
            "2017-01-30  120.93  121.63  120.66  121.63  30377503\n",
            "2017-01-27  122.14  122.35  121.60  121.95  20562944\n",
            "2017-01-26  121.67  122.44  121.60  121.94  26337576\n",
            "2017-01-25  120.42  122.10  120.28  121.88  32586673\n",
            "2017-01-24  119.55  120.10  119.50  119.97  23211038\n",
            "2017-01-23  120.00  120.81  119.77  120.08  22050218\n",
            "2017-01-20  120.45  120.45  119.73  120.00  32597892\n",
            "2017-01-19  119.40  120.09  119.37  119.78  25597291\n",
            "2017-01-18  120.00  120.50  119.71  119.99  23712961\n",
            "2017-01-17  118.34  120.24  118.22  120.00  34439843\n",
            "2017-01-13  119.11  119.62  118.81  119.04  26111948\n",
            "2017-01-12  118.90  119.30  118.21  119.25  27086220\n",
            "2017-01-11  118.74  119.93  118.60  119.75  27588593\n",
            "2017-01-10  118.77  119.38  118.30  119.11  24462051\n",
            "2017-01-09  117.95  119.43  117.94  118.99  33561948\n",
            "2017-01-06  116.78  118.16  116.47  117.91  31751900\n",
            "2017-01-05  115.92  116.86  115.81  116.61  22193587\n",
            "2017-01-04  115.85  116.51  115.75  116.02  21118116\n",
            "2017-01-03  115.80  116.33  114.76  116.15  28781865\n",
            "              Open    High     Low   Close    Volume\n",
            "Date                                                \n",
            "2017-06-30  144.45  144.96  143.78  144.02  23024107\n",
            "2017-06-29  144.71  145.13  142.28  143.68  31499368\n",
            "2017-06-28  144.49  146.11  143.16  145.83  22082432\n",
            "2017-06-27  145.01  146.16  143.62  143.73  24761891\n",
            "2017-06-26  147.17  148.28  145.38  145.82  25692361\n",
            "147.8313636363636\n",
            "              Open    High     Low   Close    Volume\n",
            "Date                                                \n",
            "2017-07-07  142.90  144.75  142.90  144.18  19201712\n",
            "2017-07-06  143.02  143.50  142.41  142.73  24128782\n",
            "              Open    High     Low   Close    Volume\n",
            "Date                                                \n",
            "2017-01-06  116.78  118.16  116.47  117.91  31751900\n",
            "2017-01-05  115.92  116.86  115.81  116.61  22193587\n",
            "2017-01-04  115.85  116.51  115.75  116.02  21118116\n",
            "2017-01-03  115.80  116.33  114.76  116.15  28781865\n",
            "              Open    High     Low   Close    Volume\n",
            "Date                                                \n",
            "2017-01-31  121.15  121.39  120.62  121.35  49200993\n",
            "2017-01-30  120.93  121.63  120.66  121.63  30377503\n",
            "2017-01-27  122.14  122.35  121.60  121.95  20562944\n",
            "2017-01-26  121.67  122.44  121.60  121.94  26337576\n",
            "2017-01-25  120.42  122.10  120.28  121.88  32586673\n",
            "2017-01-24  119.55  120.10  119.50  119.97  23211038\n",
            "2017-01-23  120.00  120.81  119.77  120.08  22050218\n",
            "2017-01-20  120.45  120.45  119.73  120.00  32597892\n",
            "2017-01-19  119.40  120.09  119.37  119.78  25597291\n",
            "2017-01-18  120.00  120.50  119.71  119.99  23712961\n",
            "2017-01-17  118.34  120.24  118.22  120.00  34439843\n",
            "2017-01-13  119.11  119.62  118.81  119.04  26111948\n",
            "2017-01-12  118.90  119.30  118.21  119.25  27086220\n",
            "2017-01-11  118.74  119.93  118.60  119.75  27588593\n",
            "2017-01-10  118.77  119.38  118.30  119.11  24462051\n",
            "2017-01-09  117.95  119.43  117.94  118.99  33561948\n",
            "2017-01-06  116.78  118.16  116.47  117.91  31751900\n",
            "2017-01-05  115.92  116.86  115.81  116.61  22193587\n",
            "2017-01-04  115.85  116.51  115.75  116.02  21118116\n",
            "2017-01-03  115.80  116.33  114.76  116.15  28781865\n",
            "Date\n",
            "2016-07-31     99.473333\n",
            "2016-08-31    107.665217\n",
            "2016-09-30    110.857143\n",
            "2016-10-31    115.707143\n",
            "2016-11-30    110.154286\n",
            "Freq: M, Name: Close, dtype: float64\n",
            "              Open    High     Low   Close    Volume\n",
            "Date                                                \n",
            "2016-07-29  104.19  104.55  103.68  104.21  27733688\n",
            "2016-07-28  102.83  104.45  102.82  104.34  39869839\n",
            "2016-07-27  104.26  104.35  102.75  102.95  92344820\n",
            "2016-07-26   96.82   97.97   96.42   96.67  56239822\n",
            "2016-07-25   98.25   98.84   96.92   97.34  40382921\n",
            "2016-07-22   99.26   99.30   98.31   98.66  28313669\n",
            "2016-07-21   99.83  101.00   99.13   99.43  32702028\n",
            "2016-07-20  100.00  100.46   99.74   99.96  26275968\n",
            "2016-07-19   99.56  100.00   99.34   99.87  23779924\n",
            "2016-07-18   98.70  100.13   98.60   99.83  36493867\n",
            "2016-07-15   98.92   99.30   98.50   98.78  30136990\n",
            "2016-07-14   97.39   98.99   97.32   98.79  38918997\n",
            "2016-07-13   97.41   97.67   96.84   96.87  25892171\n",
            "2016-07-12   97.17   97.70   97.12   97.42  24167463\n",
            "2016-07-11   96.75   97.65   96.73   96.98  23794945\n"
          ],
          "name": "stdout"
        }
      ]
    },
    {
      "cell_type": "code",
      "metadata": {
        "id": "QTwtND8wHMIV",
        "colab_type": "code",
        "colab": {
          "base_uri": "https://localhost:8080/",
          "height": 294
        },
        "outputId": "99f31481-6940-4a66-a49f-8e204b2b89cc"
      },
      "source": [
        "%matplotlib inline\n",
        "df['Close'].plot()\n"
      ],
      "execution_count": null,
      "outputs": [
        {
          "output_type": "execute_result",
          "data": {
            "text/plain": [
              "<matplotlib.axes._subplots.AxesSubplot at 0x7f993d3c1f98>"
            ]
          },
          "metadata": {
            "tags": []
          },
          "execution_count": 17
        },
        {
          "output_type": "display_data",
          "data": {
            "image/png": "[encoded data removed]",
            "text/plain": [
              "<Figure size 432x288 with 1 Axes>"
            ]
          },
          "metadata": {
            "tags": [],
            "needs_background": "light"
          }
        }
      ]
    },
    {
      "cell_type": "code",
      "metadata": {
        "id": "Fq3y3lZyFzGH",
        "colab_type": "code",
        "colab": {
          "base_uri": "https://localhost:8080/",
          "height": 391
        },
        "outputId": "203df54b-3329-4e46-e606-f3383ac1bc88"
      },
      "source": [
        "\n",
        "df['Close'].resample('M').mean().plot(kind='bar')"
      ],
      "execution_count": null,
      "outputs": [
        {
          "output_type": "execute_result",
          "data": {
            "text/plain": [
              "<matplotlib.axes._subplots.AxesSubplot at 0x7f993d33f208>"
            ]
          },
          "metadata": {
            "tags": []
          },
          "execution_count": 18
        },
        {
          "output_type": "display_data",
          "data": {
            "image/png": "[encoded data removed]",
            "text/plain": [
              "<Figure size 432x288 with 1 Axes>"
            ]
          },
          "metadata": {
            "tags": [],
            "needs_background": "light"
          }
        }
      ]
    },
    {
      "cell_type": "code",
      "metadata": {
        "id": "0SmqQFVcHo37",
        "colab_type": "code",
        "colab": {
          "base_uri": "https://localhost:8080/",
          "height": 552
        },
        "outputId": "b0f86ff7-af9d-477f-f075-5300dd75957e"
      },
      "source": [
        "import pandas as pd\n",
        "df = pd.read_csv(\"aapl_no_dates.csv\") # compare with aapl_2.csv\n",
        "print(df.head())\n",
        "rng = pd.date_range(start=\"6/1/2016\",end=\"6/30/2016\",freq='B')\n",
        "# B: business day\n",
        "print(rng)\n",
        "df.set_index(rng, inplace=True) # inplace = true: create a new dataframe\n",
        "print(df.head())\n",
        "daily_index = pd.date_range(start=\"6/1/2016\",end=\"6/30/2016\",freq='D')\n",
        "# D: calendar day\n",
        "print(daily_index)\n",
        "print(daily_index.difference(df.index))\n",
        "\n"
      ],
      "execution_count": null,
      "outputs": [
        {
          "output_type": "stream",
          "text": [
            "     Open    High     Low   Close    Volume\n",
            "0  153.17  153.33  152.22  153.18  16404088\n",
            "1  153.58  155.45  152.89  155.45  27770715\n",
            "2  154.34  154.45  153.46  153.93  25331662\n",
            "3  153.90  155.81  153.78  154.45  26624926\n",
            "4  155.02  155.98  154.48  155.37  21069647\n",
            "DatetimeIndex(['2016-06-01', '2016-06-02', '2016-06-03', '2016-06-06',\n",
            "               '2016-06-07', '2016-06-08', '2016-06-09', '2016-06-10',\n",
            "               '2016-06-13', '2016-06-14', '2016-06-15', '2016-06-16',\n",
            "               '2016-06-17', '2016-06-20', '2016-06-21', '2016-06-22',\n",
            "               '2016-06-23', '2016-06-24', '2016-06-27', '2016-06-28',\n",
            "               '2016-06-29', '2016-06-30'],\n",
            "              dtype='datetime64[ns]', freq='B')\n",
            "              Open    High     Low   Close    Volume\n",
            "2016-06-01  153.17  153.33  152.22  153.18  16404088\n",
            "2016-06-02  153.58  155.45  152.89  155.45  27770715\n",
            "2016-06-03  154.34  154.45  153.46  153.93  25331662\n",
            "2016-06-06  153.90  155.81  153.78  154.45  26624926\n",
            "2016-06-07  155.02  155.98  154.48  155.37  21069647\n",
            "DatetimeIndex(['2016-06-01', '2016-06-02', '2016-06-03', '2016-06-04',\n",
            "               '2016-06-05', '2016-06-06', '2016-06-07', '2016-06-08',\n",
            "               '2016-06-09', '2016-06-10', '2016-06-11', '2016-06-12',\n",
            "               '2016-06-13', '2016-06-14', '2016-06-15', '2016-06-16',\n",
            "               '2016-06-17', '2016-06-18', '2016-06-19', '2016-06-20',\n",
            "               '2016-06-21', '2016-06-22', '2016-06-23', '2016-06-24',\n",
            "               '2016-06-25', '2016-06-26', '2016-06-27', '2016-06-28',\n",
            "               '2016-06-29', '2016-06-30'],\n",
            "              dtype='datetime64[ns]', freq='D')\n",
            "DatetimeIndex(['2016-06-04', '2016-06-05', '2016-06-11', '2016-06-12',\n",
            "               '2016-06-18', '2016-06-19', '2016-06-25', '2016-06-26'],\n",
            "              dtype='datetime64[ns]', freq=None)\n"
          ],
          "name": "stdout"
        }
      ]
    },
    {
      "cell_type": "code",
      "metadata": {
        "id": "XD7SiQaiICRz",
        "colab_type": "code",
        "colab": {
          "base_uri": "https://localhost:8080/",
          "height": 1000
        },
        "outputId": "f03d6a1f-9c26-4ba5-a628-ac31f6196e25"
      },
      "source": [
        "%matplotlib inline\n",
        "df.Close.plot()\n",
        "df[\"2016-06-01\":\"2016-06-10\"].Close.mean()\n",
        "print(df.index)\n",
        "print(df.asfreq('D',method='pad')) # asfreq: Convert TimeSeries to specified frequency.\n",
        "print(df.asfreq('W',method='pad'))\n",
        "# method='pad': Method to use for filling holes in reindexed Series\n",
        "print(df.asfreq('H',method='pad'))\n",
        "rng = pd.date_range('1/1/2011', periods=72, freq='H')\n",
        "print(rng)\n",
        "import numpy as np\n",
        "ts = pd.Series(np.random.randint(0,10,len(rng)), index=rng)\n",
        "# np.random.randint(0,10,len(rng): from 0 to 10, the number of len(rng)\n",
        "ts.head(20)"
      ],
      "execution_count": null,
      "outputs": [
        {
          "output_type": "stream",
          "text": [
            "DatetimeIndex(['2016-06-01', '2016-06-02', '2016-06-03', '2016-06-06',\n",
            "               '2016-06-07', '2016-06-08', '2016-06-09', '2016-06-10',\n",
            "               '2016-06-13', '2016-06-14', '2016-06-15', '2016-06-16',\n",
            "               '2016-06-17', '2016-06-20', '2016-06-21', '2016-06-22',\n",
            "               '2016-06-23', '2016-06-24', '2016-06-27', '2016-06-28',\n",
            "               '2016-06-29', '2016-06-30'],\n",
            "              dtype='datetime64[ns]', freq='B')\n",
            "              Open    High     Low   Close    Volume\n",
            "2016-06-01  153.17  153.33  152.22  153.18  16404088\n",
            "2016-06-02  153.58  155.45  152.89  155.45  27770715\n",
            "2016-06-03  154.34  154.45  153.46  153.93  25331662\n",
            "2016-06-04  154.34  154.45  153.46  153.93  25331662\n",
            "2016-06-05  154.34  154.45  153.46  153.93  25331662\n",
            "2016-06-06  153.90  155.81  153.78  154.45  26624926\n",
            "2016-06-07  155.02  155.98  154.48  155.37  21069647\n",
            "2016-06-08  155.25  155.54  154.40  154.99  21250798\n",
            "2016-06-09  155.19  155.19  146.02  148.98  64882657\n",
            "2016-06-10  145.74  146.09  142.51  145.42  72307330\n",
            "2016-06-11  145.74  146.09  142.51  145.42  72307330\n",
            "2016-06-12  145.74  146.09  142.51  145.42  72307330\n",
            "2016-06-13  147.16  147.45  145.15  146.59  34165445\n",
            "2016-06-14  147.50  147.50  143.84  145.16  31531232\n",
            "2016-06-15  143.32  144.48  142.21  144.29  32165373\n",
            "2016-06-16  143.78  144.50  142.20  142.27  50361093\n",
            "2016-06-17  143.66  146.74  143.66  146.34  32541404\n",
            "2016-06-18  143.66  146.74  143.66  146.34  32541404\n",
            "2016-06-19  143.66  146.74  143.66  146.34  32541404\n",
            "2016-06-20  146.87  146.87  144.94  145.01  24900073\n",
            "2016-06-21  145.52  146.07  144.61  145.87  21265751\n",
            "2016-06-22  145.77  146.70  145.12  145.63  19106294\n",
            "2016-06-23  145.13  147.16  145.11  146.28  35439389\n",
            "2016-06-24  147.17  148.28  145.38  145.82  25692361\n",
            "2016-06-25  147.17  148.28  145.38  145.82  25692361\n",
            "2016-06-26  147.17  148.28  145.38  145.82  25692361\n",
            "2016-06-27  145.01  146.16  143.62  143.73  24761891\n",
            "2016-06-28  144.49  146.11  143.16  145.83  22082432\n",
            "2016-06-29  144.71  145.13  142.28  143.68  31499368\n",
            "2016-06-30  144.45  144.96  143.78  144.02  23024107\n",
            "              Open    High     Low   Close    Volume\n",
            "2016-06-05  154.34  154.45  153.46  153.93  25331662\n",
            "2016-06-12  145.74  146.09  142.51  145.42  72307330\n",
            "2016-06-19  143.66  146.74  143.66  146.34  32541404\n",
            "2016-06-26  147.17  148.28  145.38  145.82  25692361\n",
            "                       Open    High     Low   Close    Volume\n",
            "2016-06-01 00:00:00  153.17  153.33  152.22  153.18  16404088\n",
            "2016-06-01 01:00:00  153.17  153.33  152.22  153.18  16404088\n",
            "2016-06-01 02:00:00  153.17  153.33  152.22  153.18  16404088\n",
            "2016-06-01 03:00:00  153.17  153.33  152.22  153.18  16404088\n",
            "2016-06-01 04:00:00  153.17  153.33  152.22  153.18  16404088\n",
            "...                     ...     ...     ...     ...       ...\n",
            "2016-06-29 20:00:00  144.71  145.13  142.28  143.68  31499368\n",
            "2016-06-29 21:00:00  144.71  145.13  142.28  143.68  31499368\n",
            "2016-06-29 22:00:00  144.71  145.13  142.28  143.68  31499368\n",
            "2016-06-29 23:00:00  144.71  145.13  142.28  143.68  31499368\n",
            "2016-06-30 00:00:00  144.45  144.96  143.78  144.02  23024107\n",
            "\n",
            "[697 rows x 5 columns]\n",
            "DatetimeIndex(['2011-01-01 00:00:00', '2011-01-01 01:00:00',\n",
            "               '2011-01-01 02:00:00', '2011-01-01 03:00:00',\n",
            "               '2011-01-01 04:00:00', '2011-01-01 05:00:00',\n",
            "               '2011-01-01 06:00:00', '2011-01-01 07:00:00',\n",
            "               '2011-01-01 08:00:00', '2011-01-01 09:00:00',\n",
            "               '2011-01-01 10:00:00', '2011-01-01 11:00:00',\n",
            "               '2011-01-01 12:00:00', '2011-01-01 13:00:00',\n",
            "               '2011-01-01 14:00:00', '2011-01-01 15:00:00',\n",
            "               '2011-01-01 16:00:00', '2011-01-01 17:00:00',\n",
            "               '2011-01-01 18:00:00', '2011-01-01 19:00:00',\n",
            "               '2011-01-01 20:00:00', '2011-01-01 21:00:00',\n",
            "               '2011-01-01 22:00:00', '2011-01-01 23:00:00',\n",
            "               '2011-01-02 00:00:00', '2011-01-02 01:00:00',\n",
            "               '2011-01-02 02:00:00', '2011-01-02 03:00:00',\n",
            "               '2011-01-02 04:00:00', '2011-01-02 05:00:00',\n",
            "               '2011-01-02 06:00:00', '2011-01-02 07:00:00',\n",
            "               '2011-01-02 08:00:00', '2011-01-02 09:00:00',\n",
            "               '2011-01-02 10:00:00', '2011-01-02 11:00:00',\n",
            "               '2011-01-02 12:00:00', '2011-01-02 13:00:00',\n",
            "               '2011-01-02 14:00:00', '2011-01-02 15:00:00',\n",
            "               '2011-01-02 16:00:00', '2011-01-02 17:00:00',\n",
            "               '2011-01-02 18:00:00', '2011-01-02 19:00:00',\n",
            "               '2011-01-02 20:00:00', '2011-01-02 21:00:00',\n",
            "               '2011-01-02 22:00:00', '2011-01-02 23:00:00',\n",
            "               '2011-01-03 00:00:00', '2011-01-03 01:00:00',\n",
            "               '2011-01-03 02:00:00', '2011-01-03 03:00:00',\n",
            "               '2011-01-03 04:00:00', '2011-01-03 05:00:00',\n",
            "               '2011-01-03 06:00:00', '2011-01-03 07:00:00',\n",
            "               '2011-01-03 08:00:00', '2011-01-03 09:00:00',\n",
            "               '2011-01-03 10:00:00', '2011-01-03 11:00:00',\n",
            "               '2011-01-03 12:00:00', '2011-01-03 13:00:00',\n",
            "               '2011-01-03 14:00:00', '2011-01-03 15:00:00',\n",
            "               '2011-01-03 16:00:00', '2011-01-03 17:00:00',\n",
            "               '2011-01-03 18:00:00', '2011-01-03 19:00:00',\n",
            "               '2011-01-03 20:00:00', '2011-01-03 21:00:00',\n",
            "               '2011-01-03 22:00:00', '2011-01-03 23:00:00'],\n",
            "              dtype='datetime64[ns]', freq='H')\n"
          ],
          "name": "stdout"
        },
        {
          "output_type": "execute_result",
          "data": {
            "text/plain": [
              "2011-01-01 00:00:00    4\n",
              "2011-01-01 01:00:00    8\n",
              "2011-01-01 02:00:00    7\n",
              "2011-01-01 03:00:00    9\n",
              "2011-01-01 04:00:00    0\n",
              "2011-01-01 05:00:00    8\n",
              "2011-01-01 06:00:00    3\n",
              "2011-01-01 07:00:00    7\n",
              "2011-01-01 08:00:00    9\n",
              "2011-01-01 09:00:00    9\n",
              "2011-01-01 10:00:00    3\n",
              "2011-01-01 11:00:00    9\n",
              "2011-01-01 12:00:00    9\n",
              "2011-01-01 13:00:00    8\n",
              "2011-01-01 14:00:00    8\n",
              "2011-01-01 15:00:00    7\n",
              "2011-01-01 16:00:00    5\n",
              "2011-01-01 17:00:00    3\n",
              "2011-01-01 18:00:00    7\n",
              "2011-01-01 19:00:00    2\n",
              "Freq: H, dtype: int64"
            ]
          },
          "metadata": {
            "tags": []
          },
          "execution_count": 23
        },
        {
          "output_type": "display_data",
          "data": {
            "image/png": "[encoded data removed]",
            "text/plain": [
              "<Figure size 432x288 with 1 Axes>"
            ]
          },
          "metadata": {
            "tags": [],
            "needs_background": "light"
          }
        }
      ]
    },
    {
      "cell_type": "code",
      "metadata": {
        "id": "4p7ff34zIR1q",
        "colab_type": "code",
        "colab": {
          "base_uri": "https://localhost:8080/",
          "height": 708
        },
        "outputId": "0f8aa929-aa2f-49c0-9925-fea5255addba"
      },
      "source": [
        "import pandas as pd\n",
        "df = pd.read_csv(\"aapl_no_dates_2.csv\") # compare with aapl_3.csv\n",
        "print(df.head())\n",
        "rng = pd.date_range(start=\"7/1/2017\", end=\"7/21/2017\", freq='B')\n",
        "print(rng)\n",
        "from pandas.tseries.holiday import USFederalHolidayCalendar\n",
        "from pandas.tseries.offsets import CustomBusinessDay\n",
        "us_cal = CustomBusinessDay(calendar=USFederalHolidayCalendar())\n",
        "rng = pd.date_range(start=\"7/1/2017\",end=\"7/23/2017\", freq=us_cal)\n",
        "print(rng)\n",
        "df.set_index(rng,inplace=True)\n",
        "print(df.head())\n",
        "from pandas.tseries.holiday import AbstractHolidayCalendar, nearest_workday, Holiday\n",
        "class myCalendar(AbstractHolidayCalendar):\n",
        " rules = [\n",
        " Holiday('My Birth Day', month=4, day=15),#, observance=nearest_workday),\n",
        " ]\n",
        "my_bday = CustomBusinessDay(calendar=myCalendar())\n",
        "print(pd.date_range('4/1/2017','4/30/2017',freq=my_bday))\n",
        "egypt_weekdays = \"Sun Mon Tue Wed Thu\"\n",
        "b = CustomBusinessDay(weekmask=egypt_weekdays)\n",
        "print(pd.date_range(start=\"7/1/2017\",periods=20,freq=b))\n",
        "b = CustomBusinessDay(holidays=['2017-07-04', '2017-07-10'],weekmask=egypt_weekdays)\n",
        "pd.date_range(start=\"7/1/2017\",periods=20,freq=b)\n"
      ],
      "execution_count": null,
      "outputs": [
        {
          "output_type": "stream",
          "text": [
            "     Open    High     Low   Close    Volume\n",
            "0  144.88  145.30  143.10  143.50  14277848\n",
            "1  143.69  144.79  142.72  144.09  21569557\n",
            "2  143.02  143.50  142.41  142.73  24128782\n",
            "3  142.90  144.75  142.90  144.18  19201712\n",
            "4  144.11  145.95  143.37  145.06  21090636\n",
            "DatetimeIndex(['2017-07-03', '2017-07-04', '2017-07-05', '2017-07-06',\n",
            "               '2017-07-07', '2017-07-10', '2017-07-11', '2017-07-12',\n",
            "               '2017-07-13', '2017-07-14', '2017-07-17', '2017-07-18',\n",
            "               '2017-07-19', '2017-07-20', '2017-07-21'],\n",
            "              dtype='datetime64[ns]', freq='B')\n",
            "DatetimeIndex(['2017-07-03', '2017-07-05', '2017-07-06', '2017-07-07',\n",
            "               '2017-07-10', '2017-07-11', '2017-07-12', '2017-07-13',\n",
            "               '2017-07-14', '2017-07-17', '2017-07-18', '2017-07-19',\n",
            "               '2017-07-20', '2017-07-21'],\n",
            "              dtype='datetime64[ns]', freq='C')\n",
            "              Open    High     Low   Close    Volume\n",
            "2017-07-03  144.88  145.30  143.10  143.50  14277848\n",
            "2017-07-05  143.69  144.79  142.72  144.09  21569557\n",
            "2017-07-06  143.02  143.50  142.41  142.73  24128782\n",
            "2017-07-07  142.90  144.75  142.90  144.18  19201712\n",
            "2017-07-10  144.11  145.95  143.37  145.06  21090636\n",
            "DatetimeIndex(['2017-04-03', '2017-04-04', '2017-04-05', '2017-04-06',\n",
            "               '2017-04-07', '2017-04-10', '2017-04-11', '2017-04-12',\n",
            "               '2017-04-13', '2017-04-14', '2017-04-17', '2017-04-18',\n",
            "               '2017-04-19', '2017-04-20', '2017-04-21', '2017-04-24',\n",
            "               '2017-04-25', '2017-04-26', '2017-04-27', '2017-04-28'],\n",
            "              dtype='datetime64[ns]', freq='C')\n",
            "DatetimeIndex(['2017-07-02', '2017-07-03', '2017-07-04', '2017-07-05',\n",
            "               '2017-07-06', '2017-07-09', '2017-07-10', '2017-07-11',\n",
            "               '2017-07-12', '2017-07-13', '2017-07-16', '2017-07-17',\n",
            "               '2017-07-18', '2017-07-19', '2017-07-20', '2017-07-23',\n",
            "               '2017-07-24', '2017-07-25', '2017-07-26', '2017-07-27'],\n",
            "              dtype='datetime64[ns]', freq='C')\n"
          ],
          "name": "stdout"
        },
        {
          "output_type": "execute_result",
          "data": {
            "text/plain": [
              "DatetimeIndex(['2017-07-02', '2017-07-03', '2017-07-05', '2017-07-06',\n",
              "               '2017-07-09', '2017-07-11', '2017-07-12', '2017-07-13',\n",
              "               '2017-07-16', '2017-07-17', '2017-07-18', '2017-07-19',\n",
              "               '2017-07-20', '2017-07-23', '2017-07-24', '2017-07-25',\n",
              "               '2017-07-26', '2017-07-27', '2017-07-30', '2017-07-31'],\n",
              "              dtype='datetime64[ns]', freq='C')"
            ]
          },
          "metadata": {
            "tags": []
          },
          "execution_count": 27
        }
      ]
    },
    {
      "cell_type": "code",
      "metadata": {
        "id": "HHXrexFcI8zS",
        "colab_type": "code",
        "colab": {
          "base_uri": "https://localhost:8080/",
          "height": 310
        },
        "outputId": "991da24b-af2e-4f85-c32f-2d2ff9aa9afa"
      },
      "source": [
        "import pandas as pd\n",
        "dates = ['2017-01-05', 'Jan 5, 2017', '01/05/2017', '2017.01.05',\n",
        "'2017/01/05','20170105']\n",
        "print(pd.to_datetime(dates))\n",
        "dt = ['2017-01-05 2:30:00 PM', 'Jan 5, 2017 14:30:00', '01/05/2016',\n",
        "'2017.01.05', '2017/01/05','20170105']\n",
        "print(pd.to_datetime(dt))\n",
        "print(pd.to_datetime('30-12-2016'))\n",
        "print(pd.to_datetime('5-1-2016', dayfirst=True))\n",
        "print(pd.to_datetime('2017$01$05', format='%Y$%m$%d'))\n",
        "# $: delimiter; format: yy-mm-dd\n",
        "print(pd.to_datetime('2017#01#05', format='%Y#%m#%d'))\n",
        "# #: delimiter; format: yy-mm-dd\n",
        "print(pd.to_datetime(['2017-01-05', 'Jan 6, 2017', 'abc'], errors='ignore'))\n",
        "# 'abc' : intentional error\n",
        "print(pd.to_datetime(['2017-01-05', 'Jan 6, 2017', 'abc'], errors='coerce'))\n",
        "# Epoch or Unix time means number of seconds that have passed since Jan 1, 1970 00:00:00 UTC time\n",
        "# epoch converter: https://www.epochconverter.com/\n",
        "current_epoch = 1594833926\n",
        "print(pd.to_datetime(current_epoch, unit='s'))\n",
        "print(pd.to_datetime(current_epoch*1000, unit='ms'))\n",
        "t = pd.to_datetime([current_epoch], unit='s')\n",
        "print(t)\n",
        "t.view('int64')"
      ],
      "execution_count": 9,
      "outputs": [
        {
          "output_type": "stream",
          "text": [
            "DatetimeIndex(['2017-01-05', '2017-01-05', '2017-01-05', '2017-01-05',\n",
            "               '2017-01-05', '2017-01-05'],\n",
            "              dtype='datetime64[ns]', freq=None)\n",
            "DatetimeIndex(['2017-01-05 14:30:00', '2017-01-05 14:30:00',\n",
            "               '2016-01-05 00:00:00', '2017-01-05 00:00:00',\n",
            "               '2017-01-05 00:00:00', '2017-01-05 00:00:00'],\n",
            "              dtype='datetime64[ns]', freq=None)\n",
            "2016-12-30 00:00:00\n",
            "2016-01-05 00:00:00\n",
            "2017-01-05 00:00:00\n",
            "2017-01-05 00:00:00\n",
            "Index(['2017-01-05', 'Jan 6, 2017', 'abc'], dtype='object')\n",
            "DatetimeIndex(['2017-01-05', '2017-01-06', 'NaT'], dtype='datetime64[ns]', freq=None)\n",
            "2020-07-15 17:25:26\n",
            "2020-07-15 17:25:26\n",
            "DatetimeIndex(['2020-07-15 17:25:26'], dtype='datetime64[ns]', freq=None)\n"
          ],
          "name": "stdout"
        },
        {
          "output_type": "execute_result",
          "data": {
            "text/plain": [
              "array([1594833926000000000])"
            ]
          },
          "metadata": {
            "tags": []
          },
          "execution_count": 9
        }
      ]
    },
    {
      "cell_type": "code",
      "metadata": {
        "id": "P2DP054WJmMN",
        "colab_type": "code",
        "colab": {
          "base_uri": "https://localhost:8080/",
          "height": 449
        },
        "outputId": "1877b377-6ebe-4427-f359-087a57a6992f"
      },
      "source": [
        "import pandas as pd\n",
        "y = pd.Period('2016')\n",
        "print(y) # A-DEC: A: annual\n",
        "y.start_time\n",
        "y.end_time\n",
        "y.is_leap_year\n",
        "m = pd.Period('2017-12')\n",
        "print(m)\n",
        "m.start_time\n",
        "m.end_time\n",
        "print(m+1)\n",
        "d = pd.Period('2016-02-28', freq='D')\n",
        "print(d)\n",
        "d.start_time\n",
        "d.end_time\n",
        "print(d+1)\n",
        "h = pd.Period('2017-08-15 23:00:00',freq='H')\n",
        "print(h)\n",
        "print(h+1)\n",
        "h+pd.offsets.Hour(1) # Achieve same results using pandas offsets hour\n",
        "q1= pd.Period('2017Q1', freq='Q-JAN') # Q: quarter\n",
        "print(q1)\n",
        "q1.start_time\n",
        "q1.end_time\n",
        "q1.asfreq('M',how='start')\n",
        "q1.asfreq('M',how='end')\n",
        "w = pd.Period('2017-07-05',freq='W') # w: week\n",
        "print(w)\n",
        "print(w-1)\n",
        "w2 = pd.Period('2017-08-15',freq='W')\n",
        "print(w2)\n",
        "print(w2-w)\n",
        "r = pd.period_range('2011', '2017', freq='q')\n",
        "print(r)\n",
        "r[0].start_time\n",
        "r[0].end_time\n",
        "r = pd.period_range('2011', '2017', freq='q-jan')\n",
        "print(r)\n",
        "r[0].start_time\n",
        "r[0].end_time\n",
        "\n"
      ],
      "execution_count": 14,
      "outputs": [
        {
          "output_type": "stream",
          "text": [
            "2016\n",
            "2017-12\n",
            "2018-01\n",
            "2016-02-28\n",
            "2016-02-29\n",
            "2017-08-15 23:00\n",
            "2017-08-16 00:00\n",
            "2017Q1\n",
            "2017-07-03/2017-07-09\n",
            "2017-06-26/2017-07-02\n",
            "2017-08-14/2017-08-20\n",
            "<6 * Weeks: weekday=6>\n",
            "PeriodIndex(['2011Q1', '2011Q2', '2011Q3', '2011Q4', '2012Q1', '2012Q2',\n",
            "             '2012Q3', '2012Q4', '2013Q1', '2013Q2', '2013Q3', '2013Q4',\n",
            "             '2014Q1', '2014Q2', '2014Q3', '2014Q4', '2015Q1', '2015Q2',\n",
            "             '2015Q3', '2015Q4', '2016Q1', '2016Q2', '2016Q3', '2016Q4',\n",
            "             '2017Q1'],\n",
            "            dtype='period[Q-DEC]', freq='Q-DEC')\n",
            "PeriodIndex(['2011Q4', '2012Q1', '2012Q2', '2012Q3', '2012Q4', '2013Q1',\n",
            "             '2013Q2', '2013Q3', '2013Q4', '2014Q1', '2014Q2', '2014Q3',\n",
            "             '2014Q4', '2015Q1', '2015Q2', '2015Q3', '2015Q4', '2016Q1',\n",
            "             '2016Q2', '2016Q3', '2016Q4', '2017Q1', '2017Q2', '2017Q3',\n",
            "             '2017Q4'],\n",
            "            dtype='period[Q-JAN]', freq='Q-JAN')\n"
          ],
          "name": "stdout"
        },
        {
          "output_type": "execute_result",
          "data": {
            "text/plain": [
              "Timestamp('2011-01-31 23:59:59.999999999')"
            ]
          },
          "metadata": {
            "tags": []
          },
          "execution_count": 14
        }
      ]
    },
    {
      "cell_type": "code",
      "metadata": {
        "id": "GhgND6wMmVlW",
        "colab_type": "code",
        "colab": {
          "base_uri": "https://localhost:8080/",
          "height": 584
        },
        "outputId": "855efd3c-08c4-41f9-c684-02a2aa34d6e1"
      },
      "source": [
        "import pandas as pd\n",
        "df = pd.read_csv(\"wmt.csv\")\n",
        "print(df)\n",
        "df.set_index(\"Line Item\",inplace=True)\n",
        "df = df.T # T: transpose\n",
        "print(df)\n",
        "df.index = pd.PeriodIndex(df.index, freq=\"Q-JAN\")\n",
        "# Change object to \"Q-JAN\"\n",
        "print(df)\n",
        "df.index\n",
        "df.index[0].start_time\n",
        "df[\"Start Date\"]=df.index.map(lambda x: x.start_time)\n",
        "print(df)\n",
        "df[\"End Date\"]=df.index.map(lambda x: x.end_time)\n",
        "df"
      ],
      "execution_count": 15,
      "outputs": [
        {
          "output_type": "stream",
          "text": [
            "  Line Item  2017Q1  2017Q2  2017Q3  2017Q4  2018Q1\n",
            "0   Revenue  115904  120854  118179  130936  117542\n",
            "1  Expenses   86544   89485   87484   97743   87688\n",
            "2    Profit   29360   31369   30695   33193   29854\n",
            "Line Item  Revenue  Expenses  Profit\n",
            "2017Q1      115904     86544   29360\n",
            "2017Q2      120854     89485   31369\n",
            "2017Q3      118179     87484   30695\n",
            "2017Q4      130936     97743   33193\n",
            "2018Q1      117542     87688   29854\n",
            "Line Item  Revenue  Expenses  Profit\n",
            "2017Q1      115904     86544   29360\n",
            "2017Q2      120854     89485   31369\n",
            "2017Q3      118179     87484   30695\n",
            "2017Q4      130936     97743   33193\n",
            "2018Q1      117542     87688   29854\n",
            "Line Item  Revenue  Expenses  Profit Start Date\n",
            "2017Q1      115904     86544   29360 2016-02-01\n",
            "2017Q2      120854     89485   31369 2016-05-01\n",
            "2017Q3      118179     87484   30695 2016-08-01\n",
            "2017Q4      130936     97743   33193 2016-11-01\n",
            "2018Q1      117542     87688   29854 2017-02-01\n"
          ],
          "name": "stdout"
        },
        {
          "output_type": "execute_result",
          "data": {
            "text/html": [
              "<div>\n",
              "<style scoped>\n",
              "    .dataframe tbody tr th:only-of-type {\n",
              "        vertical-align: middle;\n",
              "    }\n",
              "\n",
              "    .dataframe tbody tr th {\n",
              "        vertical-align: top;\n",
              "    }\n",
              "\n",
              "    .dataframe thead th {\n",
              "        text-align: right;\n",
              "    }\n",
              "</style>\n",
              "<table border=\"1\" class=\"dataframe\">\n",
              "  <thead>\n",
              "    <tr style=\"text-align: right;\">\n",
              "      <th>Line Item</th>\n",
              "      <th>Revenue</th>\n",
              "      <th>Expenses</th>\n",
              "      <th>Profit</th>\n",
              "      <th>Start Date</th>\n",
              "      <th>End Date</th>\n",
              "    </tr>\n",
              "  </thead>\n",
              "  <tbody>\n",
              "    <tr>\n",
              "      <th>2017Q1</th>\n",
              "      <td>115904</td>\n",
              "      <td>86544</td>\n",
              "      <td>29360</td>\n",
              "      <td>2016-02-01</td>\n",
              "      <td>2016-04-30 23:59:59.999999999</td>\n",
              "    </tr>\n",
              "    <tr>\n",
              "      <th>2017Q2</th>\n",
              "      <td>120854</td>\n",
              "      <td>89485</td>\n",
              "      <td>31369</td>\n",
              "      <td>2016-05-01</td>\n",
              "      <td>2016-07-31 23:59:59.999999999</td>\n",
              "    </tr>\n",
              "    <tr>\n",
              "      <th>2017Q3</th>\n",
              "      <td>118179</td>\n",
              "      <td>87484</td>\n",
              "      <td>30695</td>\n",
              "      <td>2016-08-01</td>\n",
              "      <td>2016-10-31 23:59:59.999999999</td>\n",
              "    </tr>\n",
              "    <tr>\n",
              "      <th>2017Q4</th>\n",
              "      <td>130936</td>\n",
              "      <td>97743</td>\n",
              "      <td>33193</td>\n",
              "      <td>2016-11-01</td>\n",
              "      <td>2017-01-31 23:59:59.999999999</td>\n",
              "    </tr>\n",
              "    <tr>\n",
              "      <th>2018Q1</th>\n",
              "      <td>117542</td>\n",
              "      <td>87688</td>\n",
              "      <td>29854</td>\n",
              "      <td>2017-02-01</td>\n",
              "      <td>2017-04-30 23:59:59.999999999</td>\n",
              "    </tr>\n",
              "  </tbody>\n",
              "</table>\n",
              "</div>"
            ],
            "text/plain": [
              "Line Item  Revenue  Expenses  Profit Start Date                      End Date\n",
              "2017Q1      115904     86544   29360 2016-02-01 2016-04-30 23:59:59.999999999\n",
              "2017Q2      120854     89485   31369 2016-05-01 2016-07-31 23:59:59.999999999\n",
              "2017Q3      118179     87484   30695 2016-08-01 2016-10-31 23:59:59.999999999\n",
              "2017Q4      130936     97743   33193 2016-11-01 2017-01-31 23:59:59.999999999\n",
              "2018Q1      117542     87688   29854 2017-02-01 2017-04-30 23:59:59.999999999"
            ]
          },
          "metadata": {
            "tags": []
          },
          "execution_count": 15
        }
      ]
    },
    {
      "cell_type": "code",
      "metadata": {
        "id": "6icGxp8lmWnq",
        "colab_type": "code",
        "colab": {
          "base_uri": "https://localhost:8080/",
          "height": 1000
        },
        "outputId": "e9b051ee-0515-4228-c075-c7424efee0a4"
      },
      "source": [
        "import numpy as np\n",
        "idx = r\n",
        "ps = pd.Series(np.random.randn(len(idx)), idx) # idx: Error\n",
        "print(ps)\n",
        "ps['2016']\n",
        "ps['2016':'2017']\n",
        "pst = ps.to_timestamp()\n",
        "print(pst)\n",
        "pst.index\n",
        "ps = pst.to_period()\n",
        "print(ps)\n",
        "ps.index"
      ],
      "execution_count": 16,
      "outputs": [
        {
          "output_type": "stream",
          "text": [
            "2011Q4   -1.679525\n",
            "2012Q1    0.099673\n",
            "2012Q2   -0.210216\n",
            "2012Q3   -1.528298\n",
            "2012Q4   -1.062900\n",
            "2013Q1    0.781688\n",
            "2013Q2   -0.974381\n",
            "2013Q3    0.740162\n",
            "2013Q4   -0.379653\n",
            "2014Q1   -0.622501\n",
            "2014Q2   -0.496605\n",
            "2014Q3   -0.952368\n",
            "2014Q4   -1.301298\n",
            "2015Q1   -1.571421\n",
            "2015Q2    0.157384\n",
            "2015Q3   -1.039879\n",
            "2015Q4    1.261281\n",
            "2016Q1   -0.368574\n",
            "2016Q2    1.961929\n",
            "2016Q3   -0.826288\n",
            "2016Q4   -1.174146\n",
            "2017Q1   -0.539324\n",
            "2017Q2    0.062729\n",
            "2017Q3   -0.453487\n",
            "2017Q4   -0.618086\n",
            "Freq: Q-JAN, dtype: float64\n",
            "2010-11-01   -1.679525\n",
            "2011-02-01    0.099673\n",
            "2011-05-01   -0.210216\n",
            "2011-08-01   -1.528298\n",
            "2011-11-01   -1.062900\n",
            "2012-02-01    0.781688\n",
            "2012-05-01   -0.974381\n",
            "2012-08-01    0.740162\n",
            "2012-11-01   -0.379653\n",
            "2013-02-01   -0.622501\n",
            "2013-05-01   -0.496605\n",
            "2013-08-01   -0.952368\n",
            "2013-11-01   -1.301298\n",
            "2014-02-01   -1.571421\n",
            "2014-05-01    0.157384\n",
            "2014-08-01   -1.039879\n",
            "2014-11-01    1.261281\n",
            "2015-02-01   -0.368574\n",
            "2015-05-01    1.961929\n",
            "2015-08-01   -0.826288\n",
            "2015-11-01   -1.174146\n",
            "2016-02-01   -0.539324\n",
            "2016-05-01    0.062729\n",
            "2016-08-01   -0.453487\n",
            "2016-11-01   -0.618086\n",
            "Freq: QS-NOV, dtype: float64\n",
            "2010Q4   -1.679525\n",
            "2011Q1    0.099673\n",
            "2011Q2   -0.210216\n",
            "2011Q3   -1.528298\n",
            "2011Q4   -1.062900\n",
            "2012Q1    0.781688\n",
            "2012Q2   -0.974381\n",
            "2012Q3    0.740162\n",
            "2012Q4   -0.379653\n",
            "2013Q1   -0.622501\n",
            "2013Q2   -0.496605\n",
            "2013Q3   -0.952368\n",
            "2013Q4   -1.301298\n",
            "2014Q1   -1.571421\n",
            "2014Q2    0.157384\n",
            "2014Q3   -1.039879\n",
            "2014Q4    1.261281\n",
            "2015Q1   -0.368574\n",
            "2015Q2    1.961929\n",
            "2015Q3   -0.826288\n",
            "2015Q4   -1.174146\n",
            "2016Q1   -0.539324\n",
            "2016Q2    0.062729\n",
            "2016Q3   -0.453487\n",
            "2016Q4   -0.618086\n",
            "Freq: Q-DEC, dtype: float64\n"
          ],
          "name": "stdout"
        },
        {
          "output_type": "execute_result",
          "data": {
            "text/plain": [
              "PeriodIndex(['2010Q4', '2011Q1', '2011Q2', '2011Q3', '2011Q4', '2012Q1',\n",
              "             '2012Q2', '2012Q3', '2012Q4', '2013Q1', '2013Q2', '2013Q3',\n",
              "             '2013Q4', '2014Q1', '2014Q2', '2014Q3', '2014Q4', '2015Q1',\n",
              "             '2015Q2', '2015Q3', '2015Q4', '2016Q1', '2016Q2', '2016Q3',\n",
              "             '2016Q4'],\n",
              "            dtype='period[Q-DEC]', freq='Q-DEC')"
            ]
          },
          "metadata": {
            "tags": []
          },
          "execution_count": 16
        }
      ]
    }
  ]
}