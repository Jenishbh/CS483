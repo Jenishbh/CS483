{
  "nbformat": 4,
  "nbformat_minor": 0,
  "metadata": {
    "colab": {
      "name": "HW4.ipynb",
      "provenance": [],
      "authorship_tag": "ABX9TyNeZ8SKE7rSqRa+axa2vOWu",
      "include_colab_link": true
    },
    "kernelspec": {
      "name": "python3",
      "display_name": "Python 3"
    }
  },
  "cells": [
    {
      "cell_type": "markdown",
      "metadata": {
        "id": "view-in-github",
        "colab_type": "text"
      },
      "source": [
        "<a href=\"https://colab.research.google.com/github/Jenishbh/CS483/blob/master/HW4.ipynb\" target=\"_parent\"><img src=\"https://colab.research.google.com/assets/colab-badge.svg\" alt=\"Open In Colab\"/></a>"
      ]
    },
    {
      "cell_type": "code",
      "metadata": {
        "id": "Nu7K3cs712HP",
        "colab_type": "code",
        "colab": {}
      },
      "source": [
        "import pandas as pd\n",
        "\n",
        "\n",
        "# In[101]:\n",
        "\n",
        "\n",
        "f=open(\"tree.txt\",'r')\n",
        "df=f.read()\n",
        "\n",
        "\n",
        "# In[102]:\n",
        "\n",
        "\n",
        "df=df.split('\\n')\n",
        "dat=[]\n",
        "for data in df:\n",
        "    word=data.split(' ')\n",
        "    dat.append(word)\n",
        "ndf=pd.DataFrame(dat,columns=['Age','Competition','Type','profit'])\n",
        "\n",
        "\n",
        "# In[103]:\n",
        "\n",
        "\n",
        "x_train=ndf.iloc[:,0:3]\n",
        "y_train=ndf.iloc[:,3]\n",
        "print(x_train)\n",
        "\n",
        "\n",
        "# In[117]:\n",
        "\n",
        "\n",
        "from sklearn.tree import DecisionTreeClassifier\n",
        "import numpy as np\n",
        "from sklearn import tree\n",
        "\n",
        "\n",
        "# In[128]:\n",
        "\n",
        "\n",
        "clf_tree=DecisionTreeClassifier(random_state=0,max_depth=3)\n",
        "clf_fit=clf_tree.fit(x_train,y_train)\n",
        "\n",
        "\n",
        "# In[113]:\n",
        "\n",
        "\n",
        "x_test=np.array([1,1,1])\n",
        "x_test=x_test.reshape(1,-1)\n",
        "predicted=clf_fit.predict(x_test)\n",
        "\n",
        "\n",
        "# In[114]:\n",
        "\n",
        "\n",
        "print(predicted)\n",
        "\n"
      ],
      "execution_count": 5,
      "outputs": []
    }
  ]
}