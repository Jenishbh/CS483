{
  "nbformat": 4,
  "nbformat_minor": 0,
  "metadata": {
    "colab": {
      "name": "Lab2.ipynb",
      "provenance": [],
      "authorship_tag": "ABX9TyOMiCY4QkWXC+/lpQN79R7U",
      "include_colab_link": true
    },
    "kernelspec": {
      "name": "python3",
      "display_name": "Python 3"
    }
  },
  "cells": [
    {
      "cell_type": "markdown",
      "metadata": {
        "id": "view-in-github",
        "colab_type": "text"
      },
      "source": [
        "<a href=\"https://colab.research.google.com/github/Jenishbh/CS483/blob/master/Lab2.ipynb\" target=\"_parent\"><img src=\"https://colab.research.google.com/assets/colab-badge.svg\" alt=\"Open In Colab\"/></a>"
      ]
    },
    {
      "cell_type": "code",
      "metadata": {
        "id": "cWNb5EQUkFge",
        "colab_type": "code",
        "colab": {
          "base_uri": "https://localhost:8080/",
          "height": 918
        },
        "outputId": "d510b480-ef10-4ef1-ffd9-8cd563b49018"
      },
      "source": [
        "import numpy as np\n",
        "a = np.random.randint(0,10,(5,5))\n",
        "print(\"MAx: \",a.max()) # max in all elem in matrix\n",
        "print(\"MIN: \",a.min())\n",
        "print(\"axis=0 is for each col: \",a.max(axis=0)) # axis=0 is for each col\n",
        "print(\"axis=1 is for each row: \",a.min(axis=1)) # axis=1 is for each row\n",
        "print(\"flatten matrix: \",(a.flatten())) # flatten matrix\n",
        "print(\"flatten matrix first and return max value's index: \",a.argmax()) # flatten matrix first and return max value's index\n",
        "print(\"flatten matrix last and return max value's index: \",a.argmin())\n",
        "print(\"max value's axis=0: \",a.argmax(axis=0)) # max value's index in each column\n",
        "print(\"max value's axis=1: \",a.argmax(axis=1)) # max value's index in each row\n",
        "\n",
        "print(\"mean from all elem matrix: \",a.mean()) # mean from all elem matrix\n",
        "print(\"sum of all elem in matrix: \",a.sum()) # sum of all elem in matrix\n",
        "print(\"mean in each column: \",a.mean(axis=0)) # mean in each column\n",
        "print(\"mean in each row: \",a.mean(axis=1)) # mean in each row\n",
        "print(\"standard deviation = sqrt(variance):\",a.std()) # standard deviation = sqrt(variance)\n",
        "print(\"standard deviation in each col: \",a.std(axis=0)) # standard deviation in each col\n",
        "print(\"variance: \",a.var()) # variance\n",
        "print(\"variance in each col: \",a.var(axis=0)) # variance in each col\n",
        "print(\"array of cumulative sum: \",a.cumsum()) # array of cumulative sum\n",
        "# e.g.\n",
        "# a.cumsum() -> array([1,(1+2),(1+2+3),10,15,21])\n",
        "\n",
        "print(\"array of cumulative product: \\n\",a.cumprod()) # array of cumulative product\n",
        "# e.g.\n",
        "# a.cumprod() -> array([1,(1*2),(1*2*3),10,15,21])\n",
        "print(\"sort matrix row by row: \\n\",np.sort(a)) # sort matrix row by row\n",
        "print(\"return index matrix after sorting row by row: \\n\",np.argsort(a)) # return index matrix after sorting row by row\n",
        "A = np.array([1,2,3])\n",
        "B = np.array([4,5,6])\n",
        "print(\"Where B is matrix: \",np.average(A, weights=B)) # B is matrix\n",
        "# A=[1,2,3]; B=[4,5,6]\n",
        "# np.average(A, weight=B) => 1*(4/(4+5+6)) + 2*(5/(4+5+6)) + 3*(6/(4+5+6))\n",
        "w=mult = A*B\n",
        "print(\"Miltiply A*B: \",w)\n",
        "print(\"Where np.mean(A): \",np.average(A)) # =np.mean(A)\n",
        "a=np.array([[1,2],[3,4]])\n",
        "b=np.array([[11,12],[13,14]])\n",
        "print(np.vdot(a,b)) # e.g.\n",
        "# np.vdot(a, b) # 1*11 + 2*12 + 3*13 + 4*14\n",
        "a=np.array([1,2,3,6,7])\n",
        "print(\"Median value: \",np.median(a))\n",
        "# median value for 1,2,3,6,7 -> median=3\n",
        "# median value for 1,2,6,7 -> (2+6)/2 = 4.0\n",
        "a=np.array([1,0,0,2,3])\n",
        "print(\"Return non-zero element: \",a.nonzero()) # a=[1,0,0,2,3]; a.nonzero()=[0, 3, 4] return nonzero elem\n",
        "\n",
        "print(\"A*B.T: \",np.inner(A,B)) # = A*B.T\n",
        "print(\"A*B: \",np.dot(A,B)) # = A*B\n",
        "print(\"A.T*B: \\n\",np.outer(A,B)) # = A.T*B\n",
        "A=np.array([[1,2],[3,4]])\n",
        "print(\"A transpose: \\n\",np.transpose(A))\n",
        "print(\"sum of all elements in quare-matrix A's diagonal: \",A.trace()) # sum of all elements in quare-matrix A's diagonal\n",
        "A=np.array([3,1,3,4])\n",
        "np.diff(A) # if A=[3,1,3,4], then np.diff(A) = [(1-3),(3-1),(4-1)]"
      ],
      "execution_count": 37,
      "outputs": [
        {
          "output_type": "stream",
          "text": [
            "MAx:  9\n",
            "MIN:  0\n",
            "axis=0 is for each col:  [7 8 9 8 7]\n",
            "axis=1 is for each row:  [1 0 0 0 2]\n",
            "flatten matrix:  [7 1 6 2 4 7 5 9 0 0 1 8 0 6 6 2 3 6 0 6 2 8 8 8 7]\n",
            "flatten matrix first and return max value's index:  7\n",
            "flatten matrix last and return max value's index:  8\n",
            "max value's axis=0:  [0 2 1 4 4]\n",
            "max value's axis=1:  [0 2 1 2 1]\n",
            "mean from all elem matrix:  4.48\n",
            "sum of all elem in matrix:  112\n",
            "mean in each column:  [3.8 5.  5.8 3.2 4.6]\n",
            "mean in each row:  [4.  4.2 4.2 3.4 6.6]\n",
            "standard deviation = sqrt(variance): 3.0082553083141064\n",
            "standard deviation in each col:  [2.63818119 2.75680975 3.12409987 3.24961536 2.4979992 ]\n",
            "variance:  9.0496\n",
            "variance in each col:  [ 6.96  7.6   9.76 10.56  6.24]\n",
            "array of cumulative sum:  [  7   8  14  16  20  27  32  41  41  41  42  50  50  56  62  64  67  73\n",
            "  73  79  81  89  97 105 112]\n",
            "array of cumulative product: \n",
            " [     7      7     42     84    336   2352  11760 105840      0      0\n",
            "      0      0      0      0      0      0      0      0      0      0\n",
            "      0      0      0      0      0]\n",
            "sort matrix row by row: \n",
            " [[1 2 4 6 7]\n",
            " [0 0 5 7 9]\n",
            " [0 1 6 6 8]\n",
            " [0 2 3 6 6]\n",
            " [2 7 8 8 8]]\n",
            "return index matrix after sorting row by row: \n",
            " [[1 3 4 2 0]\n",
            " [3 4 1 0 2]\n",
            " [2 0 3 4 1]\n",
            " [3 0 1 2 4]\n",
            " [0 4 1 2 3]]\n",
            "Where B is matrix:  2.1333333333333333\n",
            "Miltiply A*B:  [ 4 10 18]\n",
            "Where np.mean(A):  2.0\n",
            "130\n",
            "Median value:  3.0\n",
            "Return non-zero element:  (array([0, 3, 4]),)\n",
            "A*B.T:  32\n",
            "A*B:  32\n",
            "A.T*B: \n",
            " [[ 4  5  6]\n",
            " [ 8 10 12]\n",
            " [12 15 18]]\n",
            "A transpose: \n",
            " [[1 3]\n",
            " [2 4]]\n",
            "sum of all elements in quare-matrix A's diagonal:  5\n"
          ],
          "name": "stdout"
        },
        {
          "output_type": "execute_result",
          "data": {
            "text/plain": [
              "array([-2,  2,  1])"
            ]
          },
          "metadata": {
            "tags": []
          },
          "execution_count": 37
        }
      ]
    }
  ]
}